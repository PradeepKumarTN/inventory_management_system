{
 "cells": [
  {
   "cell_type": "code",
   "execution_count": null,
   "id": "6abe4ba7-0c5f-49ec-a429-e668bf74723a",
   "metadata": {},
   "outputs": [
    {
     "name": "stdin",
     "output_type": "stream",
     "text": [
      "Admin/User :  admin\n",
      "Enter the password :  Admin@789\n"
     ]
    },
    {
     "name": "stdout",
     "output_type": "stream",
     "text": [
      "*********************\n",
      "1.Display_Menu\n",
      "2.Add_Item\n",
      "3.Remove_Item\n",
      "4.Total_Stock_Available\n",
      "5.Income_and_Profit\n",
      "6.Logout\n",
      "*********************\n"
     ]
    },
    {
     "name": "stdin",
     "output_type": "stream",
     "text": [
      "Please_Enter_Admin_Input :  6\n",
      "Admin/User :  user\n",
      "Enter the password :  User@456\n"
     ]
    },
    {
     "name": "stdout",
     "output_type": "stream",
     "text": [
      "*********************\n",
      "\n",
      "1.Display_Menu\n",
      "2.Place_Order\n",
      "3.Logout\n",
      "\n",
      "*********************\n"
     ]
    },
    {
     "name": "stdin",
     "output_type": "stream",
     "text": [
      "Please_enter_user_Input :  3\n",
      "Admin/User :  admin\n",
      "Enter the password :  Admin@789\n"
     ]
    },
    {
     "name": "stdout",
     "output_type": "stream",
     "text": [
      "*********************\n",
      "1.Display_Menu\n",
      "2.Add_Item\n",
      "3.Remove_Item\n",
      "4.Total_Stock_Available\n",
      "5.Income_and_Profit\n",
      "6.Logout\n",
      "*********************\n"
     ]
    },
    {
     "name": "stdin",
     "output_type": "stream",
     "text": [
      "Please_Enter_Admin_Input :  1\n"
     ]
    },
    {
     "name": "stdout",
     "output_type": "stream",
     "text": [
      "Item_no\t\tItem\t\tQty_Available\tMax_Retail_Price\tWholesale_Price\n",
      "****************************************************************************************\n",
      "8000\t\tShirts_H/S\t100\t\t495\t\t\t300\n",
      "8001\t\tShirts_F/S\t115\t\t695\t\t\t400\n",
      "8002\t\tCottan_Pants\t100\t\t995\t\t\t600\n",
      "8003\t\tJean_Pants\t90\t\t895\t\t\t500\n",
      "8004\t\tT-Shirts\t80\t\t345\t\t\t250\n",
      "****************************************************************************************\n",
      "*********************\n",
      "1.Display_Menu\n",
      "2.Add_Item\n",
      "3.Remove_Item\n",
      "4.Total_Stock_Available\n",
      "5.Income_and_Profit\n",
      "6.Logout\n",
      "*********************\n",
      "\n",
      "***************************************************\n",
      "\n"
     ]
    },
    {
     "name": "stdin",
     "output_type": "stream",
     "text": [
      "Please_Enter_Admin_Input :  2\n"
     ]
    },
    {
     "name": "stdout",
     "output_type": "stream",
     "text": [
      "Item_no\t\tItem\t\tQty_Available\tMax_Retail_Price\tWholesale_Price\n",
      "****************************************************************************************\n",
      "8000\t\tShirts_H/S\t100\t\t495\t\t\t300\n",
      "8001\t\tShirts_F/S\t115\t\t695\t\t\t400\n",
      "8002\t\tCottan_Pants\t100\t\t995\t\t\t600\n",
      "8003\t\tJean_Pants\t90\t\t895\t\t\t500\n",
      "8004\t\tT-Shirts\t80\t\t345\t\t\t250\n",
      "\n",
      "***************************************************\n",
      "\n"
     ]
    },
    {
     "name": "stdin",
     "output_type": "stream",
     "text": [
      "Enter the number of items to be added:  1\n",
      "Enter Item No:  8004\n",
      "Enter Item:  shorts\n"
     ]
    },
    {
     "name": "stdout",
     "output_type": "stream",
     "text": [
      "Sorry...Item number already exists.\n",
      "Item_no\t\tItem\t\tQty_Available\tMax_Retail_Price\tWholesale_Price\n",
      "****************************************************************************************\n",
      "8000\t\tShirts_H/S\t100\t\t495\t\t\t300\n",
      "8001\t\tShirts_F/S\t115\t\t695\t\t\t400\n",
      "8002\t\tCottan_Pants\t100\t\t995\t\t\t600\n",
      "8003\t\tJean_Pants\t90\t\t895\t\t\t500\n",
      "8004\t\tT-Shirts\t80\t\t345\t\t\t250\n",
      "\n",
      "***************************************************\n",
      "\n",
      "*********************\n",
      "1.Display_Menu\n",
      "2.Add_Item\n",
      "3.Remove_Item\n",
      "4.Total_Stock_Available\n",
      "5.Income_and_Profit\n",
      "6.Logout\n",
      "*********************\n",
      "\n",
      "***************************************************\n",
      "\n"
     ]
    },
    {
     "name": "stdin",
     "output_type": "stream",
     "text": [
      "Please_Enter_Admin_Input :  2\n"
     ]
    },
    {
     "name": "stdout",
     "output_type": "stream",
     "text": [
      "Item_no\t\tItem\t\tQty_Available\tMax_Retail_Price\tWholesale_Price\n",
      "****************************************************************************************\n",
      "8000\t\tShirts_H/S\t100\t\t495\t\t\t300\n",
      "8001\t\tShirts_F/S\t115\t\t695\t\t\t400\n",
      "8002\t\tCottan_Pants\t100\t\t995\t\t\t600\n",
      "8003\t\tJean_Pants\t90\t\t895\t\t\t500\n",
      "8004\t\tT-Shirts\t80\t\t345\t\t\t250\n",
      "\n",
      "***************************************************\n",
      "\n"
     ]
    },
    {
     "name": "stdin",
     "output_type": "stream",
     "text": [
      "Enter the number of items to be added:  1\n",
      "Enter Item No:  8005\n",
      "Enter Item:  short\n",
      "Enter Qty Available:  50\n",
      "Enter Max Retail Price:  345\n",
      "Enter Wholesale Price:  200\n"
     ]
    },
    {
     "name": "stdout",
     "output_type": "stream",
     "text": [
      "Item_no\t\tItem\t\tQty_Available\tMax_Retail_Price\tWholesale_Price\n",
      "****************************************************************************************\n",
      "8000\t\tShirts_H/S\t100\t\t495\t\t\t300\n",
      "8001\t\tShirts_F/S\t115\t\t695\t\t\t400\n",
      "8002\t\tCottan_Pants\t100\t\t995\t\t\t600\n",
      "8003\t\tJean_Pants\t90\t\t895\t\t\t500\n",
      "8004\t\tT-Shirts\t80\t\t345\t\t\t250\n",
      "8005\t\tshort\t50\t\t345\t\t\t200\n",
      "\n",
      "***************************************************\n",
      "\n",
      "*********************\n",
      "1.Display_Menu\n",
      "2.Add_Item\n",
      "3.Remove_Item\n",
      "4.Total_Stock_Available\n",
      "5.Income_and_Profit\n",
      "6.Logout\n",
      "*********************\n",
      "\n",
      "***************************************************\n",
      "\n"
     ]
    },
    {
     "name": "stdin",
     "output_type": "stream",
     "text": [
      "Please_Enter_Admin_Input :  3\n"
     ]
    },
    {
     "name": "stdout",
     "output_type": "stream",
     "text": [
      "Item_no\t\tItem\t\tQty_Available\tMax_Retail_Price\tWholesale_Price\n",
      "****************************************************************************************\n",
      "8000\t\tShirts_H/S\t100\t\t495\t\t\t300\n",
      "8001\t\tShirts_F/S\t115\t\t695\t\t\t400\n",
      "8002\t\tCottan_Pants\t100\t\t995\t\t\t600\n",
      "8003\t\tJean_Pants\t90\t\t895\t\t\t500\n",
      "8004\t\tT-Shirts\t80\t\t345\t\t\t250\n",
      "8005\t\tshort\t50\t\t345\t\t\t200\n",
      "\n",
      "***************************************************\n",
      "\n"
     ]
    },
    {
     "name": "stdin",
     "output_type": "stream",
     "text": [
      "Enter the Item number to be deleted:  8005\n"
     ]
    },
    {
     "name": "stdout",
     "output_type": "stream",
     "text": [
      "Item 8005 with Qty_Available 50 is removed.\n",
      "Item_no\t\tItem\t\tQty_Available\tMax_Retail_Price\tWholesale_Price\n",
      "****************************************************************************************\n",
      "8000\t\tShirts_H/S\t100\t\t495\t\t\t300\n",
      "8001\t\tShirts_F/S\t115\t\t695\t\t\t400\n",
      "8002\t\tCottan_Pants\t100\t\t995\t\t\t600\n",
      "8003\t\tJean_Pants\t90\t\t895\t\t\t500\n",
      "8004\t\tT-Shirts\t80\t\t345\t\t\t250\n",
      "\n",
      "***************************************************\n",
      "\n",
      "*********************\n",
      "1.Display_Menu\n",
      "2.Add_Item\n",
      "3.Remove_Item\n",
      "4.Total_Stock_Available\n",
      "5.Income_and_Profit\n",
      "6.Logout\n",
      "*********************\n",
      "\n",
      "***************************************************\n",
      "\n"
     ]
    },
    {
     "name": "stdin",
     "output_type": "stream",
     "text": [
      "Please_Enter_Admin_Input :  4\n"
     ]
    },
    {
     "name": "stdout",
     "output_type": "stream",
     "text": [
      "\n",
      "Shirts_H/S = 100\n",
      "Shirts_F/S = 115\n",
      "Cottan_Pants = 100\n",
      "Jean_Pants = 90\n",
      "T-Shirts = 80\n",
      "\n",
      "Total_Available_StocK_ is : 485\n",
      "\n",
      "***************************************************\n",
      "\n",
      "*********************\n",
      "1.Display_Menu\n",
      "2.Add_Item\n",
      "3.Remove_Item\n",
      "4.Total_Stock_Available\n",
      "5.Income_and_Profit\n",
      "6.Logout\n",
      "*********************\n",
      "\n",
      "***************************************************\n",
      "\n"
     ]
    },
    {
     "name": "stdin",
     "output_type": "stream",
     "text": [
      "Please_Enter_Admin_Input :  5\n"
     ]
    },
    {
     "name": "stdout",
     "output_type": "stream",
     "text": [
      "\n",
      "\n",
      "Total_Income_/_Profit_is : 136075\n",
      "\n",
      "***************************************************\n",
      "\n",
      "*********************\n",
      "1.Display_Menu\n",
      "2.Add_Item\n",
      "3.Remove_Item\n",
      "4.Total_Stock_Available\n",
      "5.Income_and_Profit\n",
      "6.Logout\n",
      "*********************\n",
      "\n",
      "***************************************************\n",
      "\n"
     ]
    },
    {
     "name": "stdin",
     "output_type": "stream",
     "text": [
      "Please_Enter_Admin_Input :  6\n",
      "Admin/User :  user\n",
      "Enter the password :  User@456\n"
     ]
    },
    {
     "name": "stdout",
     "output_type": "stream",
     "text": [
      "*********************\n",
      "\n",
      "1.Display_Menu\n",
      "2.Place_Order\n",
      "3.Logout\n",
      "\n",
      "*********************\n"
     ]
    },
    {
     "name": "stdin",
     "output_type": "stream",
     "text": [
      "Please_enter_user_Input :  1\n"
     ]
    },
    {
     "name": "stdout",
     "output_type": "stream",
     "text": [
      "Item_no\tItem\tQty_Available\tMax_Retail_Price\n",
      "***************************************************\n",
      "8000\tShirts_H/S\t100\t495\n",
      "8001\tShirts_F/S\t115\t695\n",
      "8002\tCottan_Pants\t100\t995\n",
      "8003\tJean_Pants\t90\t895\n",
      "8004\tT-Shirts\t80\t345\n",
      "\n",
      "***************************************************\n",
      "\n",
      "*********************\n",
      "\n",
      "1.Display_Menu\n",
      "2.Place_Order\n",
      "3.Logout\n",
      "\n",
      "*********************\n",
      "\n",
      "***************************************************\n",
      "\n"
     ]
    },
    {
     "name": "stdin",
     "output_type": "stream",
     "text": [
      "Please_enter_user_Input :  2\n",
      "Enter_order_quantity:  10\n"
     ]
    },
    {
     "name": "stdout",
     "output_type": "stream",
     "text": [
      "Item_no\tItem\tQty_Available\tMax_Retail_Price\n",
      "***************************************************\n",
      "8000\tShirts_H/S\t100\t495\n",
      "8001\tShirts_F/S\t115\t695\n",
      "8002\tCottan_Pants\t100\t995\n",
      "8003\tJean_Pants\t90\t895\n",
      "8004\tT-Shirts\t80\t345\n"
     ]
    },
    {
     "name": "stdin",
     "output_type": "stream",
     "text": [
      "Enter the Item_no:  8004\n"
     ]
    },
    {
     "name": "stdout",
     "output_type": "stream",
     "text": [
      "\n",
      "Item_no\tItem\tQty_Available\tMax_Retail_Price\n",
      "***************************************************\n",
      "8004\tT-Shirts\t80\t\t345\n"
     ]
    },
    {
     "name": "stdin",
     "output_type": "stream",
     "text": [
      "\n",
      "Please confirm your order (Yes/No):  yes\n"
     ]
    },
    {
     "name": "stdout",
     "output_type": "stream",
     "text": [
      "\n",
      "Order placed successfully on the product 8004 : T-Shirts\n",
      "Your order number is: 10\n",
      "\n",
      "Available products:\n",
      "\n",
      "Item_no\tItem\tQty_Available\tMax_Retail_Price\n",
      "***************************************************\n",
      "8000\tShirts_H/S\t100\t495\n",
      "8001\tShirts_F/S\t115\t695\n",
      "8002\tCottan_Pants\t100\t995\n",
      "8003\tJean_Pants\t90\t895\n",
      "8004\tT-Shirts\t70\t345\n",
      "\n",
      "***************************************************\n",
      "\n",
      "*********************\n",
      "\n",
      "1.Display_Menu\n",
      "2.Place_Order\n",
      "3.Logout\n",
      "\n",
      "*********************\n",
      "\n",
      "***************************************************\n",
      "\n"
     ]
    },
    {
     "name": "stdin",
     "output_type": "stream",
     "text": [
      "Please_enter_user_Input :  3\n",
      "Admin/User :  user\n",
      "Enter the password :  User@456\n"
     ]
    },
    {
     "name": "stdout",
     "output_type": "stream",
     "text": [
      "*********************\n",
      "\n",
      "1.Display_Menu\n",
      "2.Place_Order\n",
      "3.Logout\n",
      "\n",
      "*********************\n"
     ]
    },
    {
     "name": "stdin",
     "output_type": "stream",
     "text": [
      "Please_enter_user_Input :  1\n"
     ]
    },
    {
     "name": "stdout",
     "output_type": "stream",
     "text": [
      "Item_no\tItem\tQty_Available\tMax_Retail_Price\n",
      "***************************************************\n",
      "8000\tShirts_H/S\t100\t495\n",
      "8001\tShirts_F/S\t115\t695\n",
      "8002\tCottan_Pants\t100\t995\n",
      "8003\tJean_Pants\t90\t895\n",
      "8004\tT-Shirts\t70\t345\n",
      "\n",
      "***************************************************\n",
      "\n",
      "*********************\n",
      "\n",
      "1.Display_Menu\n",
      "2.Place_Order\n",
      "3.Logout\n",
      "\n",
      "*********************\n",
      "\n",
      "***************************************************\n",
      "\n"
     ]
    },
    {
     "name": "stdin",
     "output_type": "stream",
     "text": [
      "Please_enter_user_Input :  2\n",
      "Enter_order_quantity:  10\n"
     ]
    },
    {
     "name": "stdout",
     "output_type": "stream",
     "text": [
      "Item_no\tItem\tQty_Available\tMax_Retail_Price\n",
      "***************************************************\n",
      "8000\tShirts_H/S\t100\t495\n",
      "8001\tShirts_F/S\t115\t695\n",
      "8002\tCottan_Pants\t100\t995\n",
      "8003\tJean_Pants\t90\t895\n",
      "8004\tT-Shirts\t70\t345\n"
     ]
    },
    {
     "name": "stdin",
     "output_type": "stream",
     "text": [
      "Enter the Item_no:  8004\n"
     ]
    },
    {
     "name": "stdout",
     "output_type": "stream",
     "text": [
      "\n",
      "Item_no\tItem\tQty_Available\tMax_Retail_Price\n",
      "***************************************************\n",
      "8004\tT-Shirts\t70\t\t345\n"
     ]
    }
   ],
   "source": [
    "mens_wear_stock = [{\"Item_no\":8000,\"Item\":\"Shirts_H/S\",\"Qty_Available\":100,\"Max_Retail_Price\":495,\"Wholesale_Price\":300},\n",
    "       {\"Item_no\":8001,\"Item\":\"Shirts_F/S\",\"Qty_Available\":115,\"Max_Retail_Price\":695,\"Wholesale_Price\":400},\n",
    "       {\"Item_no\":8002,\"Item\":\"Cottan_Pants\",\"Qty_Available\":100,\"Max_Retail_Price\":995,\"Wholesale_Price\":600},\n",
    "       {\"Item_no\":8003,\"Item\":\"Jean_Pants\",\"Qty_Available\":90,\"Max_Retail_Price\":895,\"Wholesale_Price\":500},\n",
    "       {\"Item_no\":8004,\"Item\":\"T-Shirts\",\"Qty_Available\":80,\"Max_Retail_Price\":345,\"Wholesale_Price\":250}]\n",
    "stock_items = mens_wear_stock \n",
    "update_list = []\n",
    "order = \"\"\n",
    "\n",
    "def Login_Admin():\n",
    "    print(\"*********************\")\n",
    "    print(\"1.Display_Menu\")\n",
    "    print(\"2.Add_Item\")\n",
    "    print(\"3.Remove_Item\")\n",
    "    print(\"4.Total_Stock_Available\")\n",
    "    print(\"5.Income_and_Profit\")\n",
    "    print(\"6.Logout\")\n",
    "    print(\"*********************\")\n",
    "    \n",
    "def Display_Menu_Admin():\n",
    "    print(\"Item_no\\t\\tItem\\t\\tQty_Available\\tMax_Retail_Price\\tWholesale_Price\")\n",
    "    print(\"*\"*88)\n",
    "    for d in mens_wear_stock:\n",
    "        print(f\"{d[\"Item_no\"]}\\t\\t{d[\"Item\"]}\\t{d[\"Qty_Available\"]}\\t\\t{d[\"Max_Retail_Price\"]}\\t\\t\\t{d[\"Wholesale_Price\"]}\")\n",
    "        \n",
    "def Item_Include():\n",
    "    try:\n",
    "        n = int(input(\"Enter the number of items to be added: \"))\n",
    "        for i in range(n):\n",
    "            new_Item_no = int(input(\"Enter Item No: \"))\n",
    "            new_Item = input(\"Enter Item: \")\n",
    "            item_exists = False\n",
    "            for item in mens_wear_stock:\n",
    "                if item[\"Item_no\"] == new_Item_no:\n",
    "                    print(\"Sorry...Item number already exists.\")\n",
    "                    item_exists = True\n",
    "                    break\n",
    "            if not item_exists:\n",
    "                new_Qty_Available = int(input(\"Enter Qty Available: \"))\n",
    "                new_Max_Retail_Price = int(input(\"Enter Max Retail Price: \"))\n",
    "                new_Wholesale_Price = int(input(\"Enter Wholesale Price: \"))\n",
    "                \n",
    "                new_item_dict = {\n",
    "                    \"Item_no\": new_Item_no,\n",
    "                    \"Item\": new_Item,\n",
    "                    \"Qty_Available\": new_Qty_Available,\n",
    "                    \"Max_Retail_Price\": new_Max_Retail_Price,\n",
    "                    \"Wholesale_Price\": new_Wholesale_Price\n",
    "                }\n",
    "                \n",
    "                mens_wear_stock.append(new_item_dict)\n",
    "        \n",
    "    except ValueError:\n",
    "        print(\"Error: Invalid input. Please enter a valid number.\")\n",
    "    finally:\n",
    "        Display_Menu_Admin()\n",
    "        \n",
    "def Item_Exclude():\n",
    "    try:\n",
    "        dress_item_no = int(input(\"Enter the Item number to be deleted: \"))\n",
    "        found = False\n",
    "        update_list = []\n",
    "\n",
    "        for d in stock_items:\n",
    "            if d[\"Item_no\"] == dress_item_no:\n",
    "                found = True\n",
    "                print(f\"Item {d['Item_no']} with Qty_Available {d['Qty_Available']} is removed.\")\n",
    "                continue\n",
    "            update_list.append(d)\n",
    "\n",
    "        if not found:\n",
    "            print(f\"Item {dress_item_no} not found.\")\n",
    "\n",
    "        stock_items[:] = update_list\n",
    "\n",
    "    except ValueError:\n",
    "        print(\"Error: Please enter a valid integer for Item number.\")\n",
    "    except Exception as e:\n",
    "        print(f\"An error occurred: {e}\")\n",
    "    finally:\n",
    "        Display_Menu_Admin()\n",
    "\n",
    "def Stock_Update():\n",
    "    total_1 = 0\n",
    "    print()\n",
    "    for d in mens_wear_stock:\n",
    "        print(f\"{d[\"Item\"]} = {d[\"Qty_Available\"]}\")\n",
    "        total_1 += (d[\"Qty_Available\"])\n",
    "    print(f\"\\nTotal_Available_StocK_ is : {total_1}\")\n",
    "def Income_Profit():\n",
    "    total_2 = 0\n",
    "    print()\n",
    "    for d in mens_wear_stock:\n",
    "        total_2 += ((d[\"Qty_Available\"]*d[\"Max_Retail_Price\"])-(d[\"Qty_Available\"]*d[\"Wholesale_Price\"]))\n",
    "    print(f\"\\nTotal_Income_/_Profit_is : {total_2}\")\n",
    "    \n",
    "def Logout():\n",
    "    Login()\n",
    "\n",
    "    \n",
    "def Admin_Management():\n",
    "    input_1 = int(input(\"Please_Enter_Admin_Input : \"))\n",
    "    if input_1 == 1:\n",
    "        Display_Menu_Admin()\n",
    "        print(\"*\"*88)\n",
    "        Login_Admin()\n",
    "        print(\"\\n***************************************************\\n\")\n",
    "        Admin_Management()\n",
    "    elif input_1 == 2:\n",
    "        Display_Menu_Admin()\n",
    "        print(\"\\n***************************************************\\n\")\n",
    "        Item_Include()\n",
    "        print(\"\\n***************************************************\\n\")\n",
    "        Login_Admin()\n",
    "        print(\"\\n***************************************************\\n\")\n",
    "        Admin_Management()\n",
    "    elif input_1 == 3:\n",
    "        Display_Menu_Admin()\n",
    "        print(\"\\n***************************************************\\n\")\n",
    "        Item_Exclude()\n",
    "        print(\"\\n***************************************************\\n\")\n",
    "        Login_Admin()\n",
    "        print(\"\\n***************************************************\\n\")\n",
    "        Admin_Management()\n",
    "    elif input_1 == 4:\n",
    "        Stock_Update()\n",
    "        print(\"\\n***************************************************\\n\")\n",
    "        Login_Admin()\n",
    "        print(\"\\n***************************************************\\n\")\n",
    "        Admin_Management()\n",
    "    elif input_1 == 5:\n",
    "        Income_Profit()\n",
    "        print(\"\\n***************************************************\\n\")\n",
    "        Login_Admin()\n",
    "        print(\"\\n***************************************************\\n\")\n",
    "        Admin_Management()\n",
    "    elif input_1 == 6:\n",
    "        Logout()\n",
    "    else:\n",
    "        print(\"\\nInvalid Choice. Please enter valid choice\")\n",
    "        print(\"\\n***************************************************\\n\")\n",
    "        Login_Admin()\n",
    "        print(\"\\n***************************************************\\n\")\n",
    "        Admin_Management()\n",
    "\n",
    "def Login_User():\n",
    "    print(\"*********************\\n\")\n",
    "    print(\"1.Display_Menu\")\n",
    "    print(\"2.Place_Order\")\n",
    "    print(\"3.Logout\")\n",
    "    print(\"\\n*********************\")\n",
    "    \n",
    "def Display_Menu_User():\n",
    "                print(\"Item_no\\tItem\\tQty_Available\\tMax_Retail_Price\")\n",
    "                print(\"***************************************************\")\n",
    "                for d in mens_wear_stock:\n",
    "                    print(f\"{d[\"Item_no\"]}\\t{d[\"Item\"]}\\t{d[\"Qty_Available\"]}\\t{d[\"Max_Retail_Price\"]}\")\n",
    "    \n",
    "def Place_Order(mens_wear_stock):\n",
    "    while True:\n",
    "        try:\n",
    "            order_qty = int(input(\"Enter_order_quantity: \"))\n",
    "            Display_Menu_User()\n",
    "            verify_item_no = int(input(\"Enter the Item_no: \"))\n",
    "            \n",
    "            for d in mens_wear_stock:\n",
    "                if d[\"Item_no\"] == verify_item_no:\n",
    "                    print(\"\\nItem_no\\tItem\\tQty_Available\\tMax_Retail_Price\")\n",
    "                    print(\"***************************************************\")\n",
    "                    print(f\"{d['Item_no']}\\t{d['Item']}\\t{d['Qty_Available']}\\t\\t{d['Max_Retail_Price']}\")\n",
    "                    \n",
    "                    if order_qty > d['Qty_Available']:\n",
    "                        print(f\"\\nSorry, only {d['Qty_Available']} units available for {d['Item']}.\")\n",
    "                        break\n",
    "                    \n",
    "                    order_confirmation = input(\"\\nPlease confirm your order (Yes/No): \").lower()\n",
    "                    \n",
    "                    if order_confirmation == 'yes':\n",
    "                        print(f\"\\nOrder placed successfully on the product {d['Item_no']} : {d['Item']}\")\n",
    "                        print(f\"Your order number is: {order_qty}\")\n",
    "                        d[\"Qty_Available\"] -= order_qty \n",
    "                        break\n",
    "                    elif order_confirmation == 'no':\n",
    "                        print(\"Order not placed. Thank you.\")\n",
    "                        break\n",
    "                    else:\n",
    "                        print(\"\\nInvalid input. Please try again.\\n\")\n",
    "                        continue\n",
    "            else:\n",
    "                print(f\"\\nInvalid item_no ({verify_item_no}). Please enter a valid item_no.\\n\")\n",
    "                continue\n",
    "            break \n",
    "        \n",
    "        except ValueError:\n",
    "            print(\"\\nInvalid input. Please enter a valid number.\\n\")\n",
    "            continue\n",
    "\n",
    "    print(\"\\nAvailable products:\\n\")\n",
    "    Display_Menu_User()\n",
    "\n",
    "      \n",
    "def User_Management():\n",
    "    input_2 = int(input(\"Please_enter_user_Input : \"))\n",
    "    if input_2 == 1:\n",
    "        Display_Menu_User()\n",
    "        print(\"\\n***************************************************\\n\")\n",
    "        Login_User()\n",
    "        print(\"\\n***************************************************\\n\")\n",
    "        User_Management()\n",
    "    elif input_2 == 2:\n",
    "        Place_Order(mens_wear_stock)\n",
    "        print(\"\\n***************************************************\\n\")\n",
    "        Login_User()\n",
    "        print(\"\\n***************************************************\\n\")\n",
    "        User_Management()\n",
    "    elif input_2 == 3:\n",
    "        Logout()\n",
    "    else:\n",
    "        print(\"Invalid Choice. Please enter valid choice\")\n",
    "            \n",
    "\n",
    "def Login():\n",
    "    login_input = input(\"Admin/User : \")\n",
    "    if login_input == 'Admin' or login_input == 'admin' :\n",
    "        password = input(\"Enter the password : \")\n",
    "        if password == \"Admin@789\":\n",
    "            Login_Admin()\n",
    "            Admin_Management()    \n",
    "        else:\n",
    "            print(\"Invalid password. Please enter valid password\")\n",
    "\n",
    "    elif login_input == 'User' or login_input == 'user':\n",
    "        password = input(\"Enter the password : \")\n",
    "        if password == \"User@456\":\n",
    "            Login_User()\n",
    "            User_Management()\n",
    "        else:\n",
    "            print(\"Invalid password. Please enter valid password\")\n",
    "    else:\n",
    "        print(\"Invalid user type. Enter valid user type\")\n",
    "Login()\n"
   ]
  },
  {
   "cell_type": "code",
   "execution_count": null,
   "id": "5d3ab89d-c816-4217-84c2-c25b0ac13119",
   "metadata": {},
   "outputs": [],
   "source": []
  }
 ],
 "metadata": {
  "kernelspec": {
   "display_name": "Python 3 (ipykernel)",
   "language": "python",
   "name": "python3"
  },
  "language_info": {
   "codemirror_mode": {
    "name": "ipython",
    "version": 3
   },
   "file_extension": ".py",
   "mimetype": "text/x-python",
   "name": "python",
   "nbconvert_exporter": "python",
   "pygments_lexer": "ipython3",
   "version": "3.12.0"
  }
 },
 "nbformat": 4,
 "nbformat_minor": 5
}
